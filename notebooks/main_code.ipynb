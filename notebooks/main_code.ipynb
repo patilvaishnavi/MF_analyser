{
 "cells": [
  {
   "cell_type": "code",
   "execution_count": null,
   "id": "c68d9444",
   "metadata": {},
   "outputs": [],
   "source": [
    "from mftool import Mftool\n",
    "import pandas as pd\n",
    "import time"
   ]
  },
  {
   "cell_type": "code",
   "execution_count": null,
   "id": "1678b050",
   "metadata": {},
   "outputs": [],
   "source": [
    "#creating a mftool object\n",
    "mf=Mftool()"
   ]
  },
  {
   "cell_type": "code",
   "execution_count": null,
   "id": "e286aed9",
   "metadata": {},
   "outputs": [],
   "source": [
    "#importing config file that has all config details\n",
    "from src.config import scheme_config"
   ]
  },
  {
   "cell_type": "code",
   "execution_count": null,
   "id": "718ccdef",
   "metadata": {},
   "outputs": [],
   "source": [
    "#Get all felxi cap funds\n",
    "\n",
    "flexi_MF=[]\n",
    "all_scheme_codes=mf.get_scheme_codes()\n",
    "all_scheme_codes\n",
    "#for id in all_scheme_codes:\n",
    "#   flexi_MF.append(all_scheme_codes['Scheme Code'])\n",
    "#print(flexi_MF)\n",
    "\n",
    "flexi_scheme_codes = [\n",
    "    code for code, name in all_scheme_codes.items()\n",
    "    if \"flexi\" in name.lower() and \"direct\" in name.lower() and \"growth\" in name.lower()\n",
    "]\n",
    "print(flexi_scheme_codes)"
   ]
  },
  {
   "cell_type": "code",
   "execution_count": null,
   "id": "7dd40ce4",
   "metadata": {},
   "outputs": [],
   "source": [
    "flexi_funds = []\n",
    "for scheme_code in flexi_scheme_codes:\n",
    "    try:\n",
    "        details = mf.get_scheme_details(scheme_code)\n",
    "        nav_data = mf.get_scheme_quote(scheme_code)\n",
    "\n",
    "        if details and nav_data:\n",
    "            fund_info = {\n",
    "                'Scheme Code': scheme_code,\n",
    "                'Scheme Name': nav_data['scheme_name'],\n",
    "                'Latest NAV': nav_data['nav'],\n",
    "                'NAV Date': nav_data['last_updated'],\n",
    "                'Fund Type': details['scheme_type'],\n",
    "                'Fund Category': details['scheme_category'],\n",
    "                'Fund House': details['fund_house'],\n",
    "                'Launch Date': details['scheme_start_date'],\n",
    "                'Benchmark': 'Nifty 500 TRI'  # Optional placeholder\n",
    "            }\n",
    "\n",
    "            flexi_funds.append(fund_info)\n",
    "\n",
    "    except Exception as e:\n",
    "        print(f\"⚠️ Error for {scheme_code}: {e}\")\n",
    "\n",
    "# Step 4: Convert to DataFrame and save\n",
    "df_info = pd.DataFrame(flexi_funds)\n",
    "df_info.head()"
   ]
  },
  {
   "cell_type": "code",
   "execution_count": null,
   "id": "431bdb50",
   "metadata": {},
   "outputs": [],
   "source": [
    "from src.data_loader import get_nav_data\n",
    "fund_code = \"PPFCF\"\n",
    "nav_csv_path = scheme_config[fund_code][\"nav_csv_path\"]\n",
    "nav_csv_path\n",
    "\n",
    "NAV_df = get_nav_data(nav_csv_path)\n",
    "NAV_df.head()"
   ]
  },
  {
   "cell_type": "code",
   "execution_count": null,
   "id": "24ec2605",
   "metadata": {},
   "outputs": [],
   "source": [
    "#normalizing fund returns and index returns to get alpha and beta\n",
    "NAV_df['NAV_normalized']=NAV_df['NAV'] / NAV_df['NAV'].iloc[0]*10\n",
    "NAV_df['Nft500_TRI_normalized']=NAV_df['Nifty500_TRI']/NAV_df['Nifty500_TRI'].iloc[0]*10\n",
    "NAV_df['fund_return'] = NAV_df['NAV_normalized'].pct_change(fill_method=None)\n",
    "NAV_df['index_return'] = NAV_df['Nft500_TRI_normalized'].pct_change(fill_method=None)\n",
    "\n",
    "NAV_df['fund_return'] = NAV_df['fund_return'].fillna(0)\n",
    "NAV_df['index_return'] = NAV_df['index_return'].fillna(0)\n",
    "NAV_df"
   ]
  },
  {
   "cell_type": "code",
   "execution_count": null,
   "id": "14628052",
   "metadata": {},
   "outputs": [],
   "source": [
    "# Calculating rolling beta\n",
    "\n",
    "#In Indian financial modeling, the 10-year government bond yield is commonly used as the risk-free rate, and as of mid-2025:\n",
    "#India 10-Year G-Sec yield ≈ 6.8% – 7.0%\n",
    "\n",
    "annual_rf = 0.068\n",
    "daily_rf = (1 + annual_rf)**(1/252) - 1\n",
    "NAV_df['excess_fund']=NAV_df['fund_return']-daily_rf\n",
    "NAV_df['excess_index']=NAV_df['index_return']-daily_rf\n",
    "window=30\n",
    "rolling_cov=NAV_df['excess_fund'].rolling(window).cov(NAV_df['excess_index'])\n",
    "rolling_var=NAV_df['excess_index'].rolling(window).var()\n",
    "NAV_df['Rolling_beta']=rolling_cov/rolling_var\n",
    "NAV_df['Rolling_beta'].nunique\n",
    "NAV_df"
   ]
  },
  {
   "cell_type": "code",
   "execution_count": null,
   "id": "6700e5f1",
   "metadata": {},
   "outputs": [],
   "source": [
    "# DateTime here is your index, so making it a column\n",
    "NAV_df.reset_index(inplace=True)\n",
    "# sometimes if we take data from csv, it may have speciaL characters, thus better to strip column names\n",
    "\n",
    "NAV_df.columns = NAV_df.columns.str.strip()\n",
    "import matplotlib.pyplot as plt\n",
    "\n",
    "plt.figure(figsize=(14, 6))\n",
    "plt.plot(NAV_df['DateTime'], NAV_df['Rolling_beta'], label='Rolling Beta (30 days)', color='blue')\n",
    "\n",
    "plt.title('30-Day Rolling Beta Over Time')\n",
    "plt.xlabel('DateTime')\n",
    "plt.ylabel('Beta')\n",
    "plt.grid(True)\n",
    "plt.axhline(1, color='gray', linestyle='--', linewidth=1, label='Beta = 1')\n",
    "plt.legend()\n",
    "plt.tight_layout()\n",
    "plt.show()\n"
   ]
  },
  {
   "cell_type": "code",
   "execution_count": null,
   "id": "0657ae42",
   "metadata": {},
   "outputs": [],
   "source": [
    "#In Indian financial modeling, the 10-year government bond yield is commonly used as the risk-free rate, and as of mid-2025:\n",
    "#India 10-Year G-Sec yield ≈ 6.8% – 7.0%\n",
    "\n",
    "annual_rf = 0.068\n",
    "daily_rf = (1 + annual_rf)**(1/252) - 1\n",
    "cov=(NAV_df['fund_return']-daily_rf).cov(NAV_df['index_return']-daily_rf)\n",
    "var=(NAV_df['index_return']-daily_rf).var()\n",
    "all_time_beta=cov/var\n",
    "print(all_time_beta)"
   ]
  },
  {
   "cell_type": "code",
   "execution_count": null,
   "id": "a54b750c",
   "metadata": {},
   "outputs": [],
   "source": [
    "#### ROLLING ALPHA \n",
    "\n",
    "#In Indian financial modeling, the 10-year government bond yield is commonly used as the risk-free rate, and as of mid-2025:\n",
    "#India 10-Year G-Sec yield ≈ 6.8% – 7.0%\n",
    "\n",
    "rf_annual = 0.068  # 6.8%\n",
    "\n",
    "# If we consider simple interest return then ...for 1 yr(252 trading days) 0.068  then for 1 day = 0.068/252\n",
    "# But considering compound interest is more appropriate for accurate results, hence..\n",
    "# (1+0.068)-> to make it a multiplier, to the power 1/252, and then subtracting back 1\n",
    "\n",
    "rf_daily = (1 + rf_annual) ** (1 / 252) - 1\n",
    "\n",
    "# Calculate rolling mean returns (daily)\n",
    "fund_mean = NAV_df['fund_return'].rolling(window).mean()\n",
    "index_mean = NAV_df['index_return'].rolling(window).mean()\n",
    "\n",
    "# Get existing rolling beta (already calculated)\n",
    "rolling_beta = NAV_df['Rolling_beta']\n",
    "\n",
    "# Calculate expected return using CAPM\n",
    "expected_return = rf_daily + rolling_beta * (index_mean - rf_daily)\n",
    "\n",
    "# Alpha = fund return - expected return\n",
    "rolling_alpha_daily = fund_mean - expected_return\n",
    "\n",
    "# Annualize alpha\n",
    "NAV_df['Rolling_alpha'] = rolling_alpha_daily * 252\n",
    "\n",
    "NAV_df\n"
   ]
  },
  {
   "cell_type": "code",
   "execution_count": null,
   "id": "3e9057a0",
   "metadata": {},
   "outputs": [],
   "source": [
    "plt.figure(figsize=(14, 6))\n",
    "plt.plot(NAV_df['DateTime'], NAV_df['Rolling_alpha'], label='Rolling Alpha (30 days)', color='blue')\n",
    "\n",
    "plt.title('30-Day Rolling Alpha Over Time')\n",
    "plt.xlabel('DateTime')\n",
    "plt.ylabel('Alpha')\n",
    "plt.grid(True)\n",
    "plt.axhline(1, color='gray', linestyle='--', linewidth=1, label='BAlphaeta = 1')\n",
    "plt.legend()\n",
    "plt.tight_layout()\n",
    "plt.show()\n"
   ]
  },
  {
   "cell_type": "code",
   "execution_count": null,
   "id": "fb9dcb7f",
   "metadata": {},
   "outputs": [],
   "source": [
    "fund_mean = NAV_df['fund_return'].mean()\n",
    "index_mean = NAV_df['index_return'].mean()\n",
    "\n",
    "# Get existing rolling beta (already calculated)\n",
    "beta = 0.592\n",
    "rf_daily = (1 + rf_annual) ** (1 / 252) - 1\n",
    "\n",
    "\n",
    "exp_return = rf_daily + beta * (index_mean - rf_daily)\n",
    "\n",
    "# Alpha = fund return - expected return\n",
    "alpha_daily = fund_mean - exp_return\n",
    "\n",
    "all_time_alpha=alpha_daily*252*100\n",
    "all_time_alpha"
   ]
  },
  {
   "cell_type": "code",
   "execution_count": null,
   "id": "304ab0fa",
   "metadata": {},
   "outputs": [],
   "source": [
    "plt.figure(figsize=(14, 6))\n",
    "\n",
    "# Plot fund normalized NAV\n",
    "plt.plot(NAV_df['DateTime'], NAV_df['NAV_normalized'], label='Fund NAV (Normalized)', color='green')\n",
    "\n",
    "# Plot index normalized NAV\n",
    "plt.plot(NAV_df['DateTime'], NAV_df['Nft500_TRI_normalized'], label='Nifty 500 TRI (Normalized)', color='blue')\n",
    "\n",
    "# Chart settings\n",
    "plt.title('Growth of ₹10 Over Time: Fund vs Index')\n",
    "plt.xlabel('Date')\n",
    "plt.ylabel('Normalized NAV (Base = 10)')\n",
    "plt.grid(True)\n",
    "plt.legend()\n",
    "plt.tight_layout()\n",
    "plt.show()"
   ]
  },
  {
   "cell_type": "code",
   "execution_count": null,
   "id": "cffc51b5",
   "metadata": {},
   "outputs": [],
   "source": [
    "# Export NAV data\n",
    "NAV_df.to_csv(\"NAV_df.csv\", index=False)\n",
    "\n",
    "# Export fund info/metadata\n",
    "df_info.to_csv(\"flexi_capF_info.csv\", index=False)"
   ]
  },
  {
   "cell_type": "code",
   "execution_count": null,
   "id": "68888ad3",
   "metadata": {},
   "outputs": [],
   "source": [
    "from src.expense_scraper import get_expense_ratio\n",
    "\n",
    "fund_code = \"PPFCF\"\n",
    "url = scheme_config[fund_code][\"url\"]\n",
    "\n",
    "expense_ratio = get_expense_ratio(url)\n",
    "expense_ratio"
   ]
  },
  {
   "cell_type": "code",
   "execution_count": null,
   "id": "de936f10",
   "metadata": {},
   "outputs": [],
   "source": [
    "## preparing a dataframe including key parameters\n",
    "\n",
    "import requests\n",
    "from bs4 import BeautifulSoup\n",
    "import pandas as pd\n",
    "import re\n",
    "\n",
    "\n",
    "# Scrape expense ratio\n",
    "url = \"https://groww.in/mutual-funds/parag-parikh-long-term-value-fund-direct-growth\"\n",
    "headers = {\n",
    "    \"User-Agent\": \"Mozilla/5.0 (compatible; ExpenseScraper/1.0)\"\n",
    "}\n",
    "\n",
    "response = requests.get(url, headers=headers)\n",
    "response.raise_for_status()\n",
    "\n",
    "soup = BeautifulSoup(response.text, \"html.parser\")\n",
    "text = soup.get_text(separator=\" \")\n",
    "\n",
    "# Extract expense ratio using regex\n",
    "match = re.search(r'Expense ratio\\s*[:\\-]?\\s*([\\d.]+%)', text, re.IGNORECASE)\n",
    "\n",
    "if match:\n",
    "    expense_ratio = match.group(1)\n",
    "\n",
    "    # Create summary DataFrame\n",
    "    summary_df = pd.DataFrame({\n",
    "        'scheme_code': ['122639'],\n",
    "        'alpha_all_time': [all_time_alpha],\n",
    "        'beta_all_time': [all_time_beta],\n",
    "        'expense_ratio': [expense_ratio]\n",
    "    })\n",
    "\n",
    "    print(summary_df)\n",
    "else:\n",
    "    print(\"Expense ratio not found in page text.\")\n"
   ]
  },
  {
   "cell_type": "code",
   "execution_count": null,
   "id": "8aa2a44c",
   "metadata": {},
   "outputs": [],
   "source": [
    "# export to csv\n",
    "summary_df.to_csv(\"summary_df.csv\", index=False)"
   ]
  },
  {
   "cell_type": "code",
   "execution_count": null,
   "id": "3d0e6165",
   "metadata": {},
   "outputs": [],
   "source": []
  }
 ],
 "metadata": {
  "kernelspec": {
   "display_name": ".venv",
   "language": "python",
   "name": "python3"
  },
  "language_info": {
   "codemirror_mode": {
    "name": "ipython",
    "version": 3
   },
   "file_extension": ".py",
   "mimetype": "text/x-python",
   "name": "python",
   "nbconvert_exporter": "python",
   "pygments_lexer": "ipython3",
   "version": "3.13.5"
  }
 },
 "nbformat": 4,
 "nbformat_minor": 5
}
