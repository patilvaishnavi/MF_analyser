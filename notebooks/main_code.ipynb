{
 "cells": [
  {
   "cell_type": "code",
   "execution_count": 1,
   "id": "c68d9444",
   "metadata": {},
   "outputs": [],
   "source": [
    "from mftool import Mftool\n",
    "import pandas as pd\n",
    "import time"
   ]
  },
  {
   "cell_type": "code",
   "execution_count": 2,
   "id": "1678b050",
   "metadata": {},
   "outputs": [],
   "source": [
    "#creating a mftool object\n",
    "mf=Mftool()"
   ]
  },
  {
   "cell_type": "code",
   "execution_count": 3,
   "id": "e286aed9",
   "metadata": {},
   "outputs": [],
   "source": [
    "#importing config file that has all config details\n",
    "from src.config import scheme_config"
   ]
  },
  {
   "cell_type": "code",
   "execution_count": 4,
   "id": "718ccdef",
   "metadata": {},
   "outputs": [
    {
     "name": "stdout",
     "output_type": "stream",
     "text": [
      "['151796', '120564', '141925', '151895', '118424', '148404', '150387', '118275', '119076', '140353', '118535', '118955', '152135', '120046', '148990', '149763', '151379', '120492', '120166', '120264', '149104', '151412', '129046', '143793', '149094', '151917', '133839', '122639', '120843', '149450', '119718', '144905', '150571', '144546', '118883', '152584', '153543', '119292', '120662', '150346', '148642', '119252']\n"
     ]
    }
   ],
   "source": [
    "#Get all felxi cap funds\n",
    "\n",
    "flexi_MF=[]\n",
    "all_scheme_codes=mf.get_scheme_codes()\n",
    "all_scheme_codes\n",
    "#for id in all_scheme_codes:\n",
    "#   flexi_MF.append(all_scheme_codes['Scheme Code'])\n",
    "#print(flexi_MF)\n",
    "\n",
    "flexi_scheme_codes = [\n",
    "    code for code, name in all_scheme_codes.items()\n",
    "    if \"flexi\" in name.lower() and \"direct\" in name.lower() and \"growth\" in name.lower()\n",
    "]\n",
    "print(flexi_scheme_codes)"
   ]
  },
  {
   "cell_type": "code",
   "execution_count": 5,
   "id": "7dd40ce4",
   "metadata": {},
   "outputs": [
    {
     "data": {
      "application/vnd.microsoft.datawrangler.viewer.v0+json": {
       "columns": [
        {
         "name": "index",
         "rawType": "int64",
         "type": "integer"
        },
        {
         "name": "Scheme Code",
         "rawType": "object",
         "type": "string"
        },
        {
         "name": "Scheme Name",
         "rawType": "object",
         "type": "string"
        },
        {
         "name": "Latest NAV",
         "rawType": "object",
         "type": "string"
        },
        {
         "name": "NAV Date",
         "rawType": "object",
         "type": "string"
        },
        {
         "name": "Fund Type",
         "rawType": "object",
         "type": "string"
        },
        {
         "name": "Fund Category",
         "rawType": "object",
         "type": "string"
        },
        {
         "name": "Fund House",
         "rawType": "object",
         "type": "string"
        },
        {
         "name": "Launch Date",
         "rawType": "object",
         "type": "unknown"
        },
        {
         "name": "Benchmark",
         "rawType": "object",
         "type": "string"
        }
       ],
       "ref": "9a7f11b6-6390-4e29-b667-331fda3f989a",
       "rows": [
        [
         "0",
         "151796",
         "360 ONE FLEXICAP FUND-DIRECT PLAN- GROWTH",
         "15.5301",
         "30-Jul-2025",
         "Open Ended Schemes",
         "Equity Scheme - Flexi Cap Fund",
         "360 ONE Mutual Fund",
         "{'date': '06-07-2023', 'nav': '10.04820'}",
         "Nifty 500 TRI"
        ],
        [
         "1",
         "120564",
         "Aditya Birla Sun Life Flexi Cap Fund - Growth - Direct Plan",
         "1988.31",
         "30-Jul-2025",
         "Open Ended Schemes",
         "Equity Scheme - Flexi Cap Fund",
         "Aditya Birla Sun Life Mutual Fund",
         "{'date': '02-01-2013', 'nav': '280.57000'}",
         "Nifty 500 TRI"
        ],
        [
         "2",
         "141925",
         "Axis Flexi Cap Fund - Direct Plan - Growth",
         "29.62",
         "30-Jul-2025",
         "Open Ended Schemes",
         "Equity Scheme - Flexi Cap Fund",
         "Axis Mutual Fund",
         "{'date': '24-11-2017', 'nav': '10.01000'}",
         "Nifty 500 TRI"
        ],
        [
         "3",
         "151895",
         "Bajaj Finserv Flexi Cap Fund-Direct Plan-Growth",
         "15.007",
         "30-Jul-2025",
         "Open Ended Schemes",
         "Equity Scheme - Flexi Cap Fund",
         "Bajaj Finserv Mutual Fund",
         "{'date': '16-08-2023', 'nav': '10.01700'}",
         "Nifty 500 TRI"
        ],
        [
         "4",
         "118424",
         "BANDHAN Flexi Cap Fund-Direct Plan-Growth",
         "227.439",
         "30-Jul-2025",
         "Open Ended Schemes",
         "Equity Scheme - Flexi Cap Fund",
         "Bandhan Mutual Fund",
         "{'date': '02-01-2013', 'nav': '40.62120'}",
         "Nifty 500 TRI"
        ]
       ],
       "shape": {
        "columns": 9,
        "rows": 5
       }
      },
      "text/html": [
       "<div>\n",
       "<style scoped>\n",
       "    .dataframe tbody tr th:only-of-type {\n",
       "        vertical-align: middle;\n",
       "    }\n",
       "\n",
       "    .dataframe tbody tr th {\n",
       "        vertical-align: top;\n",
       "    }\n",
       "\n",
       "    .dataframe thead th {\n",
       "        text-align: right;\n",
       "    }\n",
       "</style>\n",
       "<table border=\"1\" class=\"dataframe\">\n",
       "  <thead>\n",
       "    <tr style=\"text-align: right;\">\n",
       "      <th></th>\n",
       "      <th>Scheme Code</th>\n",
       "      <th>Scheme Name</th>\n",
       "      <th>Latest NAV</th>\n",
       "      <th>NAV Date</th>\n",
       "      <th>Fund Type</th>\n",
       "      <th>Fund Category</th>\n",
       "      <th>Fund House</th>\n",
       "      <th>Launch Date</th>\n",
       "      <th>Benchmark</th>\n",
       "    </tr>\n",
       "  </thead>\n",
       "  <tbody>\n",
       "    <tr>\n",
       "      <th>0</th>\n",
       "      <td>151796</td>\n",
       "      <td>360 ONE FLEXICAP FUND-DIRECT PLAN- GROWTH</td>\n",
       "      <td>15.5301</td>\n",
       "      <td>30-Jul-2025</td>\n",
       "      <td>Open Ended Schemes</td>\n",
       "      <td>Equity Scheme - Flexi Cap Fund</td>\n",
       "      <td>360 ONE Mutual Fund</td>\n",
       "      <td>{'date': '06-07-2023', 'nav': '10.04820'}</td>\n",
       "      <td>Nifty 500 TRI</td>\n",
       "    </tr>\n",
       "    <tr>\n",
       "      <th>1</th>\n",
       "      <td>120564</td>\n",
       "      <td>Aditya Birla Sun Life Flexi Cap Fund - Growth ...</td>\n",
       "      <td>1988.31</td>\n",
       "      <td>30-Jul-2025</td>\n",
       "      <td>Open Ended Schemes</td>\n",
       "      <td>Equity Scheme - Flexi Cap Fund</td>\n",
       "      <td>Aditya Birla Sun Life Mutual Fund</td>\n",
       "      <td>{'date': '02-01-2013', 'nav': '280.57000'}</td>\n",
       "      <td>Nifty 500 TRI</td>\n",
       "    </tr>\n",
       "    <tr>\n",
       "      <th>2</th>\n",
       "      <td>141925</td>\n",
       "      <td>Axis Flexi Cap Fund - Direct Plan - Growth</td>\n",
       "      <td>29.62</td>\n",
       "      <td>30-Jul-2025</td>\n",
       "      <td>Open Ended Schemes</td>\n",
       "      <td>Equity Scheme - Flexi Cap Fund</td>\n",
       "      <td>Axis Mutual Fund</td>\n",
       "      <td>{'date': '24-11-2017', 'nav': '10.01000'}</td>\n",
       "      <td>Nifty 500 TRI</td>\n",
       "    </tr>\n",
       "    <tr>\n",
       "      <th>3</th>\n",
       "      <td>151895</td>\n",
       "      <td>Bajaj Finserv Flexi Cap Fund-Direct Plan-Growth</td>\n",
       "      <td>15.007</td>\n",
       "      <td>30-Jul-2025</td>\n",
       "      <td>Open Ended Schemes</td>\n",
       "      <td>Equity Scheme - Flexi Cap Fund</td>\n",
       "      <td>Bajaj Finserv Mutual Fund</td>\n",
       "      <td>{'date': '16-08-2023', 'nav': '10.01700'}</td>\n",
       "      <td>Nifty 500 TRI</td>\n",
       "    </tr>\n",
       "    <tr>\n",
       "      <th>4</th>\n",
       "      <td>118424</td>\n",
       "      <td>BANDHAN Flexi Cap Fund-Direct Plan-Growth</td>\n",
       "      <td>227.439</td>\n",
       "      <td>30-Jul-2025</td>\n",
       "      <td>Open Ended Schemes</td>\n",
       "      <td>Equity Scheme - Flexi Cap Fund</td>\n",
       "      <td>Bandhan Mutual Fund</td>\n",
       "      <td>{'date': '02-01-2013', 'nav': '40.62120'}</td>\n",
       "      <td>Nifty 500 TRI</td>\n",
       "    </tr>\n",
       "  </tbody>\n",
       "</table>\n",
       "</div>"
      ],
      "text/plain": [
       "  Scheme Code                                        Scheme Name Latest NAV  \\\n",
       "0      151796          360 ONE FLEXICAP FUND-DIRECT PLAN- GROWTH    15.5301   \n",
       "1      120564  Aditya Birla Sun Life Flexi Cap Fund - Growth ...    1988.31   \n",
       "2      141925         Axis Flexi Cap Fund - Direct Plan - Growth      29.62   \n",
       "3      151895    Bajaj Finserv Flexi Cap Fund-Direct Plan-Growth     15.007   \n",
       "4      118424          BANDHAN Flexi Cap Fund-Direct Plan-Growth    227.439   \n",
       "\n",
       "      NAV Date           Fund Type                   Fund Category  \\\n",
       "0  30-Jul-2025  Open Ended Schemes  Equity Scheme - Flexi Cap Fund   \n",
       "1  30-Jul-2025  Open Ended Schemes  Equity Scheme - Flexi Cap Fund   \n",
       "2  30-Jul-2025  Open Ended Schemes  Equity Scheme - Flexi Cap Fund   \n",
       "3  30-Jul-2025  Open Ended Schemes  Equity Scheme - Flexi Cap Fund   \n",
       "4  30-Jul-2025  Open Ended Schemes  Equity Scheme - Flexi Cap Fund   \n",
       "\n",
       "                          Fund House  \\\n",
       "0                360 ONE Mutual Fund   \n",
       "1  Aditya Birla Sun Life Mutual Fund   \n",
       "2                   Axis Mutual Fund   \n",
       "3          Bajaj Finserv Mutual Fund   \n",
       "4                Bandhan Mutual Fund   \n",
       "\n",
       "                                  Launch Date      Benchmark  \n",
       "0   {'date': '06-07-2023', 'nav': '10.04820'}  Nifty 500 TRI  \n",
       "1  {'date': '02-01-2013', 'nav': '280.57000'}  Nifty 500 TRI  \n",
       "2   {'date': '24-11-2017', 'nav': '10.01000'}  Nifty 500 TRI  \n",
       "3   {'date': '16-08-2023', 'nav': '10.01700'}  Nifty 500 TRI  \n",
       "4   {'date': '02-01-2013', 'nav': '40.62120'}  Nifty 500 TRI  "
      ]
     },
     "execution_count": 5,
     "metadata": {},
     "output_type": "execute_result"
    }
   ],
   "source": [
    "flexi_funds = []\n",
    "for scheme_code in flexi_scheme_codes:\n",
    "    try:\n",
    "        details = mf.get_scheme_details(scheme_code)\n",
    "        nav_data = mf.get_scheme_quote(scheme_code)\n",
    "\n",
    "        if details and nav_data:\n",
    "            fund_info = {\n",
    "                'Scheme Code': scheme_code,\n",
    "                'Scheme Name': nav_data['scheme_name'],\n",
    "                'Latest NAV': nav_data['nav'],\n",
    "                'NAV Date': nav_data['last_updated'],\n",
    "                'Fund Type': details['scheme_type'],\n",
    "                'Fund Category': details['scheme_category'],\n",
    "                'Fund House': details['fund_house'],\n",
    "                'Launch Date': details['scheme_start_date'],\n",
    "                'Benchmark': 'Nifty 500 TRI'  # Optional placeholder\n",
    "            }\n",
    "\n",
    "            flexi_funds.append(fund_info)\n",
    "\n",
    "    except Exception as e:\n",
    "        print(f\"⚠️ Error for {scheme_code}: {e}\")\n",
    "\n",
    "# Step 4: Convert to DataFrame and save\n",
    "df_info = pd.DataFrame(flexi_funds)\n",
    "df_info.head()"
   ]
  },
  {
   "cell_type": "code",
   "execution_count": 7,
   "id": "431bdb50",
   "metadata": {},
   "outputs": [
    {
     "data": {
      "application/vnd.microsoft.datawrangler.viewer.v0+json": {
       "columns": [
        {
         "name": "DateTime",
         "rawType": "datetime64[ns]",
         "type": "datetime"
        },
        {
         "name": "NAV",
         "rawType": "float64",
         "type": "float"
        },
        {
         "name": "Nifty500_TRI",
         "rawType": "float64",
         "type": "float"
        },
        {
         "name": "scheme_code",
         "rawType": "object",
         "type": "string"
        }
       ],
       "ref": "492ef8df-cba2-4ecb-b967-085bbbc7f303",
       "rows": [
        [
         "2013-05-28 00:00:00",
         "10.0",
         "6623.8",
         "122639"
        ],
        [
         "2013-05-29 00:00:00",
         "10.01",
         "6609.41",
         "122639"
        ],
        [
         "2013-05-30 00:00:00",
         "10.03",
         "6625.94",
         "122639"
        ],
        [
         "2013-05-31 00:00:00",
         "10.01",
         "6502.47",
         "122639"
        ],
        [
         "2013-06-03 00:00:00",
         "10.06",
         "6471.69",
         "122639"
        ]
       ],
       "shape": {
        "columns": 3,
        "rows": 5
       }
      },
      "text/html": [
       "<div>\n",
       "<style scoped>\n",
       "    .dataframe tbody tr th:only-of-type {\n",
       "        vertical-align: middle;\n",
       "    }\n",
       "\n",
       "    .dataframe tbody tr th {\n",
       "        vertical-align: top;\n",
       "    }\n",
       "\n",
       "    .dataframe thead th {\n",
       "        text-align: right;\n",
       "    }\n",
       "</style>\n",
       "<table border=\"1\" class=\"dataframe\">\n",
       "  <thead>\n",
       "    <tr style=\"text-align: right;\">\n",
       "      <th></th>\n",
       "      <th>NAV</th>\n",
       "      <th>Nifty500_TRI</th>\n",
       "      <th>scheme_code</th>\n",
       "    </tr>\n",
       "    <tr>\n",
       "      <th>DateTime</th>\n",
       "      <th></th>\n",
       "      <th></th>\n",
       "      <th></th>\n",
       "    </tr>\n",
       "  </thead>\n",
       "  <tbody>\n",
       "    <tr>\n",
       "      <th>2013-05-28</th>\n",
       "      <td>10.00</td>\n",
       "      <td>6623.80</td>\n",
       "      <td>122639</td>\n",
       "    </tr>\n",
       "    <tr>\n",
       "      <th>2013-05-29</th>\n",
       "      <td>10.01</td>\n",
       "      <td>6609.41</td>\n",
       "      <td>122639</td>\n",
       "    </tr>\n",
       "    <tr>\n",
       "      <th>2013-05-30</th>\n",
       "      <td>10.03</td>\n",
       "      <td>6625.94</td>\n",
       "      <td>122639</td>\n",
       "    </tr>\n",
       "    <tr>\n",
       "      <th>2013-05-31</th>\n",
       "      <td>10.01</td>\n",
       "      <td>6502.47</td>\n",
       "      <td>122639</td>\n",
       "    </tr>\n",
       "    <tr>\n",
       "      <th>2013-06-03</th>\n",
       "      <td>10.06</td>\n",
       "      <td>6471.69</td>\n",
       "      <td>122639</td>\n",
       "    </tr>\n",
       "  </tbody>\n",
       "</table>\n",
       "</div>"
      ],
      "text/plain": [
       "              NAV  Nifty500_TRI scheme_code\n",
       "DateTime                                   \n",
       "2013-05-28  10.00       6623.80      122639\n",
       "2013-05-29  10.01       6609.41      122639\n",
       "2013-05-30  10.03       6625.94      122639\n",
       "2013-05-31  10.01       6502.47      122639\n",
       "2013-06-03  10.06       6471.69      122639"
      ]
     },
     "execution_count": 7,
     "metadata": {},
     "output_type": "execute_result"
    }
   ],
   "source": [
    "from src.data_loader import get_nav_data\n",
    "fund_code = \"PPFCF\"\n",
    "nav_csv_path = scheme_config[fund_code][\"nav_csv_path\"]\n",
    "nav_csv_path\n",
    "\n",
    "NAV_df = get_nav_data(nav_csv_path)\n",
    "NAV_df.head()"
   ]
  },
  {
   "cell_type": "code",
   "execution_count": 6,
   "id": "32693471",
   "metadata": {},
   "outputs": [
    {
     "data": {
      "text/plain": [
       "Index(['NAV', 'Nifty500_TRI', 'scheme_code'], dtype='object')"
      ]
     },
     "execution_count": 6,
     "metadata": {},
     "output_type": "execute_result"
    }
   ],
   "source": [
    "nav_df.columns"
   ]
  },
  {
   "cell_type": "code",
   "execution_count": 8,
   "id": "24ec2605",
   "metadata": {},
   "outputs": [
    {
     "data": {
      "application/vnd.microsoft.datawrangler.viewer.v0+json": {
       "columns": [
        {
         "name": "DateTime",
         "rawType": "datetime64[ns]",
         "type": "datetime"
        },
        {
         "name": "NAV",
         "rawType": "float64",
         "type": "float"
        },
        {
         "name": "Nifty500_TRI",
         "rawType": "float64",
         "type": "float"
        },
        {
         "name": "scheme_code",
         "rawType": "object",
         "type": "string"
        },
        {
         "name": "NAV_normalized",
         "rawType": "float64",
         "type": "float"
        },
        {
         "name": "Nft500_TRI_normalized",
         "rawType": "float64",
         "type": "float"
        },
        {
         "name": "fund_return",
         "rawType": "float64",
         "type": "float"
        },
        {
         "name": "index_return",
         "rawType": "float64",
         "type": "float"
        }
       ],
       "ref": "bc7deaba-2f0b-4d33-bb96-69b739d730e5",
       "rows": [
        [
         "2013-05-28 00:00:00",
         "10.0",
         "6623.8",
         "122639",
         "10.0",
         "10.0",
         "0.0",
         "0.0"
        ],
        [
         "2013-05-29 00:00:00",
         "10.01",
         "6609.41",
         "122639",
         "10.009999999999998",
         "9.978275310244873",
         "0.0009999999999998899",
         "-0.002172468975512709"
        ],
        [
         "2013-05-30 00:00:00",
         "10.03",
         "6625.94",
         "122639",
         "10.03",
         "10.003230773876021",
         "0.0019980019980021524",
         "0.002500979663842884"
        ],
        [
         "2013-05-31 00:00:00",
         "10.01",
         "6502.47",
         "122639",
         "10.009999999999998",
         "9.816827198888856",
         "-0.001994017946161608",
         "-0.018634337165745363"
        ],
        [
         "2013-06-03 00:00:00",
         "10.06",
         "6471.69",
         "122639",
         "10.06",
         "9.770358404541199",
         "0.004995004995005159",
         "-0.0047335858527607355"
        ],
        [
         "2013-06-04 00:00:00",
         "10.03",
         "6462.34",
         "122639",
         "10.03",
         "9.756242640176334",
         "-0.0029821073558649047",
         "-0.0014447539977964219"
        ],
        [
         "2013-06-05 00:00:00",
         "10.03",
         "6467.86",
         "122639",
         "10.03",
         "9.76457622512757",
         "0.0",
         "0.0008541797553207608"
        ],
        [
         "2013-06-06 00:00:00",
         "10.03",
         "6465.38",
         "122639",
         "10.03",
         "9.760832150729188",
         "0.0",
         "-0.00038343439715771144"
        ],
        [
         "2013-06-07 00:00:00",
         "10.02",
         "6420.57",
         "122639",
         "10.02",
         "9.693182161297141",
         "-0.0009970089730807485",
         "-0.006930760450275075"
        ],
        [
         "2013-06-10 00:00:00",
         "9.99",
         "6397.44",
         "122639",
         "9.99",
         "9.658262628702555",
         "-0.0029940119760478723",
         "-0.003602483891617325"
        ],
        [
         "2013-06-11 00:00:00",
         "9.95",
         "6293.93",
         "122639",
         "9.95",
         "9.501992813792686",
         "-0.004004004004004136",
         "-0.016179909463785447"
        ],
        [
         "2013-06-12 00:00:00",
         "9.93",
         "6255.65",
         "122639",
         "9.93",
         "9.444201213804764",
         "-0.0020100502512562235",
         "-0.006082050483561141"
        ],
        [
         "2013-06-13 00:00:00",
         "9.91",
         "6182.9",
         "122639",
         "9.91",
         "9.334369999094175",
         "-0.002014098690835797",
         "-0.011629486943802725"
        ],
        [
         "2013-06-14 00:00:00",
         "9.95",
         "6292.36",
         "122639",
         "9.95",
         "9.499622573145324",
         "0.004036326942482349",
         "0.01770366656423361"
        ],
        [
         "2013-06-17 00:00:00",
         "9.98",
         "6336.52",
         "122639",
         "9.98",
         "9.566291252755217",
         "0.0030150753768845018",
         "0.007018034568905929"
        ],
        [
         "2013-06-18 00:00:00",
         "9.99",
         "6313.16",
         "122639",
         "9.99",
         "9.53102448745433",
         "0.0010020040080160886",
         "-0.0036865661277801776"
        ],
        [
         "2013-06-19 00:00:00",
         "10.01",
         "6329.95",
         "122639",
         "10.009999999999998",
         "9.556372475014342",
         "0.002002002002001735",
         "0.002659523915123474"
        ],
        [
         "2013-06-20 00:00:00",
         "9.93",
         "6160.34",
         "122639",
         "9.93",
         "9.300310999728254",
         "-0.007992007992007832",
         "-0.026794840401582865"
        ],
        [
         "2013-06-21 00:00:00",
         "9.91",
         "6147.39",
         "122639",
         "9.91",
         "9.28076028865606",
         "-0.002014098690835797",
         "-0.002102156699143154"
        ],
        [
         "2013-06-24 00:00:00",
         "9.8",
         "6043.8",
         "122639",
         "9.8",
         "9.124369697152693",
         "-0.011099899091826404",
         "-0.016851053861882903"
        ],
        [
         "2013-06-25 00:00:00",
         "9.78",
         "6050.09",
         "122639",
         "9.78",
         "9.133865756816329",
         "-0.0020408163265307477",
         "0.0010407359608193278"
        ],
        [
         "2013-06-26 00:00:00",
         "9.75",
         "6030.01",
         "122639",
         "9.75",
         "9.103550831848787",
         "-0.0030674846625766694",
         "-0.0033189588915206736"
        ],
        [
         "2013-06-27 00:00:00",
         "9.79",
         "6114.89",
         "122639",
         "9.79",
         "9.231694797548236",
         "0.004102564102564044",
         "0.014076261896746711"
        ],
        [
         "2013-06-28 00:00:00",
         "9.89",
         "6277.73",
         "122639",
         "9.89",
         "9.477535553609709",
         "0.010214504596527174",
         "0.026630078382440026"
        ],
        [
         "2013-07-01 00:00:00",
         "9.93",
         "6362.81",
         "122639",
         "9.93",
         "9.605981460792899",
         "0.004044489383215222",
         "0.013552669515892068"
        ],
        [
         "2013-07-02 00:00:00",
         "9.93",
         "6322.22",
         "122639",
         "9.93",
         "9.544702436667773",
         "0.0",
         "-0.006379256963511493"
        ],
        [
         "2013-07-03 00:00:00",
         "9.91",
         "6225.59",
         "122639",
         "9.91",
         "9.398819408798575",
         "-0.002014098690835797",
         "-0.015284188149099487"
        ],
        [
         "2013-07-04 00:00:00",
         "9.95",
         "6289.54",
         "122639",
         "9.95",
         "9.495365198224583",
         "0.004036326942482349",
         "0.010272118787134854"
        ],
        [
         "2013-07-05 00:00:00",
         "9.97",
         "6315.8",
         "122639",
         "9.97",
         "9.535010115039706",
         "0.0020100502512563345",
         "0.004175186102640449"
        ],
        [
         "2013-07-08 00:00:00",
         "9.95",
         "6267.69",
         "122639",
         "9.95",
         "9.46237809112594",
         "-0.0020060180541626726",
         "-0.007617403970993419"
        ],
        [
         "2013-07-09 00:00:00",
         "10.0",
         "6322.15",
         "122639",
         "10.0",
         "9.544596757148463",
         "0.005025125628140836",
         "0.008689006635618446"
        ],
        [
         "2013-07-10 00:00:00",
         "10.0",
         "6284.17",
         "122639",
         "10.0",
         "9.487258069386153",
         "0.0",
         "-0.006007449997231906"
        ],
        [
         "2013-07-11 00:00:00",
         "10.06",
         "6389.64",
         "122639",
         "10.06",
         "9.64648691083668",
         "0.006000000000000005",
         "0.016783441568258173"
        ],
        [
         "2013-07-12 00:00:00",
         "10.12",
         "6452.31",
         "122639",
         "10.120000000000001",
         "9.741100274766751",
         "0.005964214711729587",
         "0.009808064304092312"
        ],
        [
         "2013-07-15 00:00:00",
         "10.18",
         "6488.25",
         "122639",
         "10.18",
         "9.79535915939491",
         "0.005928853754940677",
         "0.005570098150894598"
        ],
        [
         "2013-07-16 00:00:00",
         "10.1",
         "6406.0",
         "122639",
         "10.1",
         "9.67118572420665",
         "-0.007858546168958758",
         "-0.012676761838708361"
        ],
        [
         "2013-07-17 00:00:00",
         "10.15",
         "6407.99",
         "122639",
         "10.150000000000002",
         "9.674190041969865",
         "0.004950495049505177",
         "0.00031064626912247206"
        ],
        [
         "2013-07-18 00:00:00",
         "10.21",
         "6479.41",
         "122639",
         "10.21",
         "9.782013345813581",
         "0.005911330049261032",
         "0.011145460589045975"
        ],
        [
         "2013-07-19 00:00:00",
         "10.12",
         "6459.04",
         "122639",
         "10.120000000000001",
         "9.751260605694617",
         "-0.008814887365328095",
         "-0.003143804760001312"
        ],
        [
         "2013-07-22 00:00:00",
         "10.18",
         "6456.87",
         "122639",
         "10.18",
         "9.747984540596033",
         "0.005928853754940677",
         "-0.0003359632391191081"
        ],
        [
         "2013-07-23 00:00:00",
         "10.16",
         "6498.28",
         "122639",
         "10.16",
         "9.810501524804492",
         "-0.0019646365422396617",
         "0.006413324102854556"
        ],
        [
         "2013-07-24 00:00:00",
         "10.03",
         "6397.24",
         "122639",
         "10.03",
         "9.657960687218816",
         "-0.01279527559055127",
         "-0.015548729817736362"
        ],
        [
         "2013-07-25 00:00:00",
         "9.96",
         "6319.02",
         "122639",
         "9.96",
         "9.539871372927927",
         "-0.006979062811565129",
         "-0.012227147957556639"
        ],
        [
         "2013-07-26 00:00:00",
         "9.95",
         "6285.39",
         "122639",
         "9.95",
         "9.48909991243697",
         "-0.0010040160642571516",
         "-0.005322027782789118"
        ],
        [
         "2013-07-29 00:00:00",
         "9.88",
         "6219.91",
         "122639",
         "9.88",
         "9.390244270660345",
         "-0.007035175879396838",
         "-0.010417810191571397"
        ],
        [
         "2013-07-30 00:00:00",
         "9.83",
         "6124.51",
         "122639",
         "9.83",
         "9.24621818291615",
         "-0.005060728744939347",
         "-0.015337842508975075"
        ],
        [
         "2013-07-31 00:00:00",
         "9.76",
         "6109.86",
         "122639",
         "9.76",
         "9.224100969232161",
         "-0.007121057985757906",
         "-0.002392028096941723"
        ],
        [
         "2013-08-01 00:00:00",
         "9.78",
         "6074.32",
         "122639",
         "9.78",
         "9.170445967571485",
         "0.002049180327868827",
         "-0.005816827226810206"
        ],
        [
         "2013-08-02 00:00:00",
         "9.81",
         "6019.93",
         "122639",
         "9.81",
         "9.08833298106827",
         "0.0030674846625768915",
         "-0.008954088688116535"
        ],
        [
         "2013-08-05 00:00:00",
         "9.78",
         "6031.75",
         "122639",
         "9.78",
         "9.10617772275733",
         "-0.003058103975535298",
         "0.001963477980641004"
        ]
       ],
       "shape": {
        "columns": 7,
        "rows": 2989
       }
      },
      "text/html": [
       "<div>\n",
       "<style scoped>\n",
       "    .dataframe tbody tr th:only-of-type {\n",
       "        vertical-align: middle;\n",
       "    }\n",
       "\n",
       "    .dataframe tbody tr th {\n",
       "        vertical-align: top;\n",
       "    }\n",
       "\n",
       "    .dataframe thead th {\n",
       "        text-align: right;\n",
       "    }\n",
       "</style>\n",
       "<table border=\"1\" class=\"dataframe\">\n",
       "  <thead>\n",
       "    <tr style=\"text-align: right;\">\n",
       "      <th></th>\n",
       "      <th>NAV</th>\n",
       "      <th>Nifty500_TRI</th>\n",
       "      <th>scheme_code</th>\n",
       "      <th>NAV_normalized</th>\n",
       "      <th>Nft500_TRI_normalized</th>\n",
       "      <th>fund_return</th>\n",
       "      <th>index_return</th>\n",
       "    </tr>\n",
       "    <tr>\n",
       "      <th>DateTime</th>\n",
       "      <th></th>\n",
       "      <th></th>\n",
       "      <th></th>\n",
       "      <th></th>\n",
       "      <th></th>\n",
       "      <th></th>\n",
       "      <th></th>\n",
       "    </tr>\n",
       "  </thead>\n",
       "  <tbody>\n",
       "    <tr>\n",
       "      <th>2013-05-28</th>\n",
       "      <td>10.00</td>\n",
       "      <td>6623.80</td>\n",
       "      <td>122639</td>\n",
       "      <td>10.00</td>\n",
       "      <td>10.000000</td>\n",
       "      <td>0.000000</td>\n",
       "      <td>0.000000</td>\n",
       "    </tr>\n",
       "    <tr>\n",
       "      <th>2013-05-29</th>\n",
       "      <td>10.01</td>\n",
       "      <td>6609.41</td>\n",
       "      <td>122639</td>\n",
       "      <td>10.01</td>\n",
       "      <td>9.978275</td>\n",
       "      <td>0.001000</td>\n",
       "      <td>-0.002172</td>\n",
       "    </tr>\n",
       "    <tr>\n",
       "      <th>2013-05-30</th>\n",
       "      <td>10.03</td>\n",
       "      <td>6625.94</td>\n",
       "      <td>122639</td>\n",
       "      <td>10.03</td>\n",
       "      <td>10.003231</td>\n",
       "      <td>0.001998</td>\n",
       "      <td>0.002501</td>\n",
       "    </tr>\n",
       "    <tr>\n",
       "      <th>2013-05-31</th>\n",
       "      <td>10.01</td>\n",
       "      <td>6502.47</td>\n",
       "      <td>122639</td>\n",
       "      <td>10.01</td>\n",
       "      <td>9.816827</td>\n",
       "      <td>-0.001994</td>\n",
       "      <td>-0.018634</td>\n",
       "    </tr>\n",
       "    <tr>\n",
       "      <th>2013-06-03</th>\n",
       "      <td>10.06</td>\n",
       "      <td>6471.69</td>\n",
       "      <td>122639</td>\n",
       "      <td>10.06</td>\n",
       "      <td>9.770358</td>\n",
       "      <td>0.004995</td>\n",
       "      <td>-0.004734</td>\n",
       "    </tr>\n",
       "    <tr>\n",
       "      <th>...</th>\n",
       "      <td>...</td>\n",
       "      <td>...</td>\n",
       "      <td>...</td>\n",
       "      <td>...</td>\n",
       "      <td>...</td>\n",
       "      <td>...</td>\n",
       "      <td>...</td>\n",
       "    </tr>\n",
       "    <tr>\n",
       "      <th>2025-07-14</th>\n",
       "      <td>84.72</td>\n",
       "      <td>37047.20</td>\n",
       "      <td>122639</td>\n",
       "      <td>84.72</td>\n",
       "      <td>55.930433</td>\n",
       "      <td>0.002248</td>\n",
       "      <td>0.001140</td>\n",
       "    </tr>\n",
       "    <tr>\n",
       "      <th>2025-07-15</th>\n",
       "      <td>84.81</td>\n",
       "      <td>37270.09</td>\n",
       "      <td>122639</td>\n",
       "      <td>84.81</td>\n",
       "      <td>56.266931</td>\n",
       "      <td>0.001062</td>\n",
       "      <td>0.006016</td>\n",
       "    </tr>\n",
       "    <tr>\n",
       "      <th>2025-07-16</th>\n",
       "      <td>84.80</td>\n",
       "      <td>37309.40</td>\n",
       "      <td>122639</td>\n",
       "      <td>84.80</td>\n",
       "      <td>56.326278</td>\n",
       "      <td>-0.000118</td>\n",
       "      <td>0.001055</td>\n",
       "    </tr>\n",
       "    <tr>\n",
       "      <th>2025-07-17</th>\n",
       "      <td>84.73</td>\n",
       "      <td>37225.68</td>\n",
       "      <td>122639</td>\n",
       "      <td>84.73</td>\n",
       "      <td>56.199885</td>\n",
       "      <td>-0.000825</td>\n",
       "      <td>-0.002244</td>\n",
       "    </tr>\n",
       "    <tr>\n",
       "      <th>2025-07-18</th>\n",
       "      <td>84.37</td>\n",
       "      <td>37010.28</td>\n",
       "      <td>122639</td>\n",
       "      <td>84.37</td>\n",
       "      <td>55.874694</td>\n",
       "      <td>-0.004249</td>\n",
       "      <td>-0.005786</td>\n",
       "    </tr>\n",
       "  </tbody>\n",
       "</table>\n",
       "<p>2989 rows × 7 columns</p>\n",
       "</div>"
      ],
      "text/plain": [
       "              NAV  Nifty500_TRI scheme_code  NAV_normalized  \\\n",
       "DateTime                                                      \n",
       "2013-05-28  10.00       6623.80      122639           10.00   \n",
       "2013-05-29  10.01       6609.41      122639           10.01   \n",
       "2013-05-30  10.03       6625.94      122639           10.03   \n",
       "2013-05-31  10.01       6502.47      122639           10.01   \n",
       "2013-06-03  10.06       6471.69      122639           10.06   \n",
       "...           ...           ...         ...             ...   \n",
       "2025-07-14  84.72      37047.20      122639           84.72   \n",
       "2025-07-15  84.81      37270.09      122639           84.81   \n",
       "2025-07-16  84.80      37309.40      122639           84.80   \n",
       "2025-07-17  84.73      37225.68      122639           84.73   \n",
       "2025-07-18  84.37      37010.28      122639           84.37   \n",
       "\n",
       "            Nft500_TRI_normalized  fund_return  index_return  \n",
       "DateTime                                                      \n",
       "2013-05-28              10.000000     0.000000      0.000000  \n",
       "2013-05-29               9.978275     0.001000     -0.002172  \n",
       "2013-05-30              10.003231     0.001998      0.002501  \n",
       "2013-05-31               9.816827    -0.001994     -0.018634  \n",
       "2013-06-03               9.770358     0.004995     -0.004734  \n",
       "...                           ...          ...           ...  \n",
       "2025-07-14              55.930433     0.002248      0.001140  \n",
       "2025-07-15              56.266931     0.001062      0.006016  \n",
       "2025-07-16              56.326278    -0.000118      0.001055  \n",
       "2025-07-17              56.199885    -0.000825     -0.002244  \n",
       "2025-07-18              55.874694    -0.004249     -0.005786  \n",
       "\n",
       "[2989 rows x 7 columns]"
      ]
     },
     "execution_count": 8,
     "metadata": {},
     "output_type": "execute_result"
    }
   ],
   "source": [
    "#normalizing fund returns and index returns to get alpha and beta\n",
    "NAV_df['NAV_normalized']=NAV_df['NAV'] / NAV_df['NAV'].iloc[0]*10\n",
    "NAV_df['Nft500_TRI_normalized']=NAV_df['Nifty500_TRI']/NAV_df['Nifty500_TRI'].iloc[0]*10\n",
    "NAV_df['fund_return'] = NAV_df['NAV_normalized'].pct_change(fill_method=None)\n",
    "NAV_df['index_return'] = NAV_df['Nft500_TRI_normalized'].pct_change(fill_method=None)\n",
    "\n",
    "NAV_df['fund_return'] = NAV_df['fund_return'].fillna(0)\n",
    "NAV_df['index_return'] = NAV_df['index_return'].fillna(0)\n",
    "NAV_df"
   ]
  },
  {
   "cell_type": "code",
   "execution_count": 9,
   "id": "14628052",
   "metadata": {},
   "outputs": [
    {
     "data": {
      "text/plain": [
       "<bound method IndexOpsMixin.nunique of DateTime\n",
       "2013-05-28         NaN\n",
       "2013-05-29         NaN\n",
       "2013-05-30         NaN\n",
       "2013-05-31         NaN\n",
       "2013-06-03         NaN\n",
       "                ...   \n",
       "2025-07-14    0.716190\n",
       "2025-07-15    0.683616\n",
       "2025-07-16    0.678660\n",
       "2025-07-17    0.678793\n",
       "2025-07-18    0.617059\n",
       "Name: Rolling_beta, Length: 2989, dtype: float64>"
      ]
     },
     "execution_count": 9,
     "metadata": {},
     "output_type": "execute_result"
    }
   ],
   "source": [
    "# Calculating rolling beta\n",
    "\n",
    "#In Indian financial modeling, the 10-year government bond yield is commonly used as the risk-free rate, and as of mid-2025:\n",
    "#India 10-Year G-Sec yield ≈ 6.8% – 7.0%\n",
    "\n",
    "annual_rf = 0.068\n",
    "daily_rf = (1 + annual_rf)**(1/252) - 1\n",
    "NAV_df['excess_fund']=NAV_df['fund_return']-daily_rf\n",
    "NAV_df['excess_index']=NAV_df['index_return']-daily_rf\n",
    "window=30\n",
    "rolling_cov=NAV_df['excess_fund'].rolling(window).cov(NAV_df['excess_index'])\n",
    "rolling_var=NAV_df['excess_index'].rolling(window).var()\n",
    "NAV_df['Rolling_beta']=rolling_cov/rolling_var\n",
    "NAV_df['Rolling_beta'].nunique"
   ]
  },
  {
   "cell_type": "code",
   "execution_count": 10,
   "id": "6700e5f1",
   "metadata": {},
   "outputs": [
    {
     "data": {
      "image/png": "[encoded data removed]",
      "text/plain": [
       "<Figure size 1400x600 with 1 Axes>"
      ]
     },
     "metadata": {},
     "output_type": "display_data"
    }
   ],
   "source": [
    "# DateTime here is your index, so making it a column\n",
    "NAV_df.reset_index(inplace=True)\n",
    "# sometimes if we take data from csv, it may have speciaL characters, thus better to strip column names\n",
    "\n",
    "NAV_df.columns = NAV_df.columns.str.strip()\n",
    "import matplotlib.pyplot as plt\n",
    "\n",
    "plt.figure(figsize=(14, 6))\n",
    "plt.plot(NAV_df['DateTime'], NAV_df['Rolling_beta'], label='Rolling Beta (30 days)', color='blue')\n",
    "\n",
    "plt.title('30-Day Rolling Beta Over Time')\n",
    "plt.xlabel('DateTime')\n",
    "plt.ylabel('Beta')\n",
    "plt.grid(True)\n",
    "plt.axhline(1, color='gray', linestyle='--', linewidth=1, label='Beta = 1')\n",
    "plt.legend()\n",
    "plt.tight_layout()\n",
    "plt.show()\n"
   ]
  },
  {
   "cell_type": "code",
   "execution_count": 11,
   "id": "0657ae42",
   "metadata": {},
   "outputs": [
    {
     "name": "stdout",
     "output_type": "stream",
     "text": [
      "0.5920085968947569\n"
     ]
    }
   ],
   "source": [
    "#In Indian financial modeling, the 10-year government bond yield is commonly used as the risk-free rate, and as of mid-2025:\n",
    "#India 10-Year G-Sec yield ≈ 6.8% – 7.0%\n",
    "\n",
    "annual_rf = 0.068\n",
    "daily_rf = (1 + annual_rf)**(1/252) - 1\n",
    "cov=(NAV_df['fund_return']-daily_rf).cov(NAV_df['index_return']-daily_rf)\n",
    "var=(NAV_df['index_return']-daily_rf).var()\n",
    "all_time_beta=cov/var\n",
    "print(all_time_beta)"
   ]
  },
  {
   "cell_type": "code",
   "execution_count": null,
   "id": "a54b750c",
   "metadata": {},
   "outputs": [],
   "source": [
    "#### ROLLING ALPHA \n",
    "\n",
    "#In Indian financial modeling, the 10-year government bond yield is commonly used as the risk-free rate, and as of mid-2025:\n",
    "#India 10-Year G-Sec yield ≈ 6.8% – 7.0%\n",
    "\n",
    "rf_annual = 0.068  # 6.8%\n",
    "\n",
    "# If we consider simple interest return then ...for 1 yr(252 trading days) 0.068  then for 1 day = 0.068/252\n",
    "# But considering compound interest is more appropriate for accurate results, hence..\n",
    "# (1+0.068)-> to make it a multiplier, to the power 1/252, and then subtracting back 1\n",
    "\n",
    "rf_daily = (1 + rf_annual) ** (1 / 252) - 1\n",
    "\n",
    "# Calculate rolling mean returns (daily)\n",
    "fund_mean = NAV_df_PPFCF['fund_return'].rolling(window).mean()\n",
    "index_mean = NAV_df_PPFCF['index_return'].rolling(window).mean()\n",
    "\n",
    "# Get existing rolling beta (already calculated)\n",
    "rolling_beta = NAV_df_PPFCF['Rolling_beta']\n",
    "\n",
    "# Calculate expected return using CAPM\n",
    "expected_return = rf_daily + rolling_beta * (index_mean - rf_daily)\n",
    "\n",
    "# Alpha = fund return - expected return\n",
    "rolling_alpha_daily = fund_mean - expected_return\n",
    "\n",
    "# Annualize alpha\n",
    "NAV_df_PPFCF['Rolling_alpha'] = rolling_alpha_daily * 252\n",
    "\n",
    "NAV_df_PPFCF\n"
   ]
  },
  {
   "cell_type": "code",
   "execution_count": null,
   "id": "3e9057a0",
   "metadata": {},
   "outputs": [],
   "source": [
    "plt.figure(figsize=(14, 6))\n",
    "plt.plot(NAV_df_PPFCF['DateTime'], NAV_df_PPFCF['Rolling_alpha'], label='Rolling Alpha (30 days)', color='blue')\n",
    "\n",
    "plt.title('30-Day Rolling Alpha Over Time')\n",
    "plt.xlabel('DateTime')\n",
    "plt.ylabel('Alpha')\n",
    "plt.grid(True)\n",
    "plt.axhline(1, color='gray', linestyle='--', linewidth=1, label='BAlphaeta = 1')\n",
    "plt.legend()\n",
    "plt.tight_layout()\n",
    "plt.show()\n"
   ]
  },
  {
   "cell_type": "code",
   "execution_count": null,
   "id": "fb9dcb7f",
   "metadata": {},
   "outputs": [],
   "source": [
    "fund_mean = NAV_df_PPFCF['fund_return'].mean()\n",
    "index_mean = NAV_df_PPFCF['index_return'].mean()\n",
    "\n",
    "# Get existing rolling beta (already calculated)\n",
    "beta = 0.592\n",
    "rf_daily = (1 + rf_annual) ** (1 / 252) - 1\n",
    "\n",
    "\n",
    "exp_return = rf_daily + beta * (index_mean - rf_daily)\n",
    "\n",
    "# Alpha = fund return - expected return\n",
    "alpha_daily = fund_mean - exp_return\n",
    "\n",
    "all_time_alpha=alpha_daily*252*100\n",
    "all_time_alpha"
   ]
  },
  {
   "cell_type": "code",
   "execution_count": null,
   "id": "304ab0fa",
   "metadata": {},
   "outputs": [],
   "source": [
    "plt.figure(figsize=(14, 6))\n",
    "\n",
    "# Plot fund normalized NAV\n",
    "plt.plot(NAV_df_PPFCF['DateTime'], NAV_df_PPFCF['NAV_normalized'], label='Fund NAV (Normalized)', color='green')\n",
    "\n",
    "# Plot index normalized NAV\n",
    "plt.plot(NAV_df_PPFCF['DateTime'], NAV_df_PPFCF['Nft500_TRI_normalized'], label='Nifty 500 TRI (Normalized)', color='blue')\n",
    "\n",
    "# Chart settings\n",
    "plt.title('Growth of ₹10 Over Time: Fund vs Index')\n",
    "plt.xlabel('Date')\n",
    "plt.ylabel('Normalized NAV (Base = 10)')\n",
    "plt.grid(True)\n",
    "plt.legend()\n",
    "plt.tight_layout()\n",
    "plt.show()"
   ]
  },
  {
   "cell_type": "code",
   "execution_count": null,
   "id": "cffc51b5",
   "metadata": {},
   "outputs": [],
   "source": [
    "# Export NAV data\n",
    "NAV_df_PPFCF.to_csv(\"NAV_df_PPFCF.csv\", index=False)\n",
    "\n",
    "# Export fund info/metadata\n",
    "df_info.to_csv(\"flexi_capF_info.csv\", index=False)"
   ]
  },
  {
   "cell_type": "code",
   "execution_count": null,
   "id": "a9828c1f",
   "metadata": {},
   "outputs": [],
   "source": [
    "import requests\n",
    "from bs4 import BeautifulSoup\n",
    "import re\n",
    "\n",
    "url = \"https://groww.in/mutual-funds/parag-parikh-long-term-value-fund-direct-growth\"\n",
    "headers = {\n",
    "    \"User-Agent\": \"Mozilla/5.0 (compatible; ExpenseScraper/1.0)\"\n",
    "}\n",
    "\n",
    "response = requests.get(url, headers=headers)\n",
    "response.raise_for_status()\n",
    "\n",
    "soup = BeautifulSoup(response.text, \"html.parser\")\n",
    "\n",
    "# Try to find the element that shows \"Expense ratio\"\n",
    "text = soup.get_text(separator=\" \")\n",
    "\n",
    "# Regex to find a percentage that follows \"Expense ratio\"\n",
    "match = re.search(r'Expense ratio\\s*[:\\-]?\\s*([\\d.]+%)', text, re.IGNORECASE)\n",
    "\n",
    "if match:\n",
    "    expense_ratio = match.group(1)\n",
    "    print(\"Expense Ratio:\", expense_ratio)\n",
    "else:\n",
    "    print(\"Expense ratio not found in page text.\")\n"
   ]
  },
  {
   "cell_type": "code",
   "execution_count": null,
   "id": "de936f10",
   "metadata": {},
   "outputs": [],
   "source": [
    "import requests\n",
    "from bs4 import BeautifulSoup\n",
    "import pandas as pd\n",
    "import re\n",
    "\n",
    "\n",
    "# Scrape expense ratio\n",
    "url = \"https://groww.in/mutual-funds/parag-parikh-long-term-value-fund-direct-growth\"\n",
    "headers = {\n",
    "    \"User-Agent\": \"Mozilla/5.0 (compatible; ExpenseScraper/1.0)\"\n",
    "}\n",
    "\n",
    "response = requests.get(url, headers=headers)\n",
    "response.raise_for_status()\n",
    "\n",
    "soup = BeautifulSoup(response.text, \"html.parser\")\n",
    "text = soup.get_text(separator=\" \")\n",
    "\n",
    "# Extract expense ratio using regex\n",
    "match = re.search(r'Expense ratio\\s*[:\\-]?\\s*([\\d.]+%)', text, re.IGNORECASE)\n",
    "\n",
    "if match:\n",
    "    expense_ratio = match.group(1)\n",
    "\n",
    "    # Create summary DataFrame\n",
    "    summary_df = pd.DataFrame({\n",
    "        'scheme_code': ['122639'],\n",
    "        'alpha_all_time': [all_time_alpha],\n",
    "        'beta_all_time': [all_time_beta],\n",
    "        'expense_ratio': [expense_ratio]\n",
    "    })\n",
    "\n",
    "    print(summary_df)\n",
    "else:\n",
    "    print(\"Expense ratio not found in page text.\")\n"
   ]
  },
  {
   "cell_type": "code",
   "execution_count": null,
   "id": "8aa2a44c",
   "metadata": {},
   "outputs": [],
   "source": [
    "# export to csv\n",
    "summary_df.to_csv(\"summary_PPFCF_df.csv\", index=False)"
   ]
  },
  {
   "cell_type": "code",
   "execution_count": null,
   "id": "3d0e6165",
   "metadata": {},
   "outputs": [],
   "source": []
  }
 ],
 "metadata": {
  "kernelspec": {
   "display_name": ".venv",
   "language": "python",
   "name": "python3"
  },
  "language_info": {
   "codemirror_mode": {
    "name": "ipython",
    "version": 3
   },
   "file_extension": ".py",
   "mimetype": "text/x-python",
   "name": "python",
   "nbconvert_exporter": "python",
   "pygments_lexer": "ipython3",
   "version": "3.13.5"
  }
 },
 "nbformat": 4,
 "nbformat_minor": 5
}
