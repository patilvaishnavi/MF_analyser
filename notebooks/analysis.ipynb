{
 "cells": [
  {
   "cell_type": "code",
   "execution_count": 28,
   "id": "c9ebba20",
   "metadata": {},
   "outputs": [],
   "source": [
    "import numpy as np\n",
    "import pandas as pd\n",
    "import matplotlib.pyplot as plt\n",
    "import seaborn as sns"
   ]
  },
  {
   "cell_type": "code",
   "execution_count": 96,
   "id": "068eaeb7",
   "metadata": {},
   "outputs": [],
   "source": [
    "df = pd.read_csv('./data/PPFCF/chart.csv',index_col=0,parse_dates=True)"
   ]
  },
  {
   "cell_type": "code",
   "execution_count": 97,
   "id": "4c4cae6e",
   "metadata": {},
   "outputs": [
    {
     "data": {
      "application/vnd.microsoft.datawrangler.viewer.v0+json": {
       "columns": [
        {
         "name": "DateTime",
         "rawType": "datetime64[ns]",
         "type": "datetime"
        },
        {
         "name": "Parag Parikh Flexi Cap Fund - Regular Plan - Growth",
         "rawType": "float64",
         "type": "float"
        },
        {
         "name": "$-Adjusted",
         "rawType": "float64",
         "type": "float"
        },
        {
         "name": "NIFTY 500 - TRI ",
         "rawType": "float64",
         "type": "float"
        }
       ],
       "ref": "f00944a8-54e8-4c4f-9e5d-347a3fbf3dd9",
       "rows": [
        [
         "2013-05-28 00:00:00",
         "10.0",
         "0.1794",
         "6623.8"
        ],
        [
         "2013-05-29 00:00:00",
         "10.01",
         "0.1779",
         "6609.41"
        ],
        [
         "2013-05-30 00:00:00",
         "10.03",
         "0.1788",
         "6625.94"
        ],
        [
         "2013-05-31 00:00:00",
         "10.01",
         "0.1773",
         "6502.47"
        ],
        [
         "2013-06-03 00:00:00",
         "10.06",
         "0.1778",
         "6471.69"
        ]
       ],
       "shape": {
        "columns": 3,
        "rows": 5
       }
      },
      "text/html": [
       "<div>\n",
       "<style scoped>\n",
       "    .dataframe tbody tr th:only-of-type {\n",
       "        vertical-align: middle;\n",
       "    }\n",
       "\n",
       "    .dataframe tbody tr th {\n",
       "        vertical-align: top;\n",
       "    }\n",
       "\n",
       "    .dataframe thead th {\n",
       "        text-align: right;\n",
       "    }\n",
       "</style>\n",
       "<table border=\"1\" class=\"dataframe\">\n",
       "  <thead>\n",
       "    <tr style=\"text-align: right;\">\n",
       "      <th></th>\n",
       "      <th>Parag Parikh Flexi Cap Fund - Regular Plan - Growth</th>\n",
       "      <th>$-Adjusted</th>\n",
       "      <th>NIFTY 500 - TRI</th>\n",
       "    </tr>\n",
       "    <tr>\n",
       "      <th>DateTime</th>\n",
       "      <th></th>\n",
       "      <th></th>\n",
       "      <th></th>\n",
       "    </tr>\n",
       "  </thead>\n",
       "  <tbody>\n",
       "    <tr>\n",
       "      <th>2013-05-28</th>\n",
       "      <td>10.00</td>\n",
       "      <td>0.1794</td>\n",
       "      <td>6623.80</td>\n",
       "    </tr>\n",
       "    <tr>\n",
       "      <th>2013-05-29</th>\n",
       "      <td>10.01</td>\n",
       "      <td>0.1779</td>\n",
       "      <td>6609.41</td>\n",
       "    </tr>\n",
       "    <tr>\n",
       "      <th>2013-05-30</th>\n",
       "      <td>10.03</td>\n",
       "      <td>0.1788</td>\n",
       "      <td>6625.94</td>\n",
       "    </tr>\n",
       "    <tr>\n",
       "      <th>2013-05-31</th>\n",
       "      <td>10.01</td>\n",
       "      <td>0.1773</td>\n",
       "      <td>6502.47</td>\n",
       "    </tr>\n",
       "    <tr>\n",
       "      <th>2013-06-03</th>\n",
       "      <td>10.06</td>\n",
       "      <td>0.1778</td>\n",
       "      <td>6471.69</td>\n",
       "    </tr>\n",
       "  </tbody>\n",
       "</table>\n",
       "</div>"
      ],
      "text/plain": [
       "            Parag Parikh Flexi Cap Fund - Regular Plan - Growth  $-Adjusted  \\\n",
       "DateTime                                                                      \n",
       "2013-05-28                                              10.00        0.1794   \n",
       "2013-05-29                                              10.01        0.1779   \n",
       "2013-05-30                                              10.03        0.1788   \n",
       "2013-05-31                                              10.01        0.1773   \n",
       "2013-06-03                                              10.06        0.1778   \n",
       "\n",
       "            NIFTY 500 - TRI   \n",
       "DateTime                      \n",
       "2013-05-28           6623.80  \n",
       "2013-05-29           6609.41  \n",
       "2013-05-30           6625.94  \n",
       "2013-05-31           6502.47  \n",
       "2013-06-03           6471.69  "
      ]
     },
     "execution_count": 97,
     "metadata": {},
     "output_type": "execute_result"
    }
   ],
   "source": [
    "df.head()"
   ]
  },
  {
   "cell_type": "code",
   "execution_count": 98,
   "id": "387663cc",
   "metadata": {},
   "outputs": [
    {
     "data": {
      "application/vnd.microsoft.datawrangler.viewer.v0+json": {
       "columns": [
        {
         "name": "index",
         "rawType": "object",
         "type": "string"
        },
        {
         "name": "0",
         "rawType": "int64",
         "type": "integer"
        }
       ],
       "ref": "25bbb00c-7f4f-444d-86f3-5d3f1785437d",
       "rows": [
        [
         "Parag Parikh Flexi Cap Fund - Regular Plan - Growth",
         "2989"
        ],
        [
         "$-Adjusted",
         "2989"
        ],
        [
         "NIFTY 500 - TRI ",
         "2989"
        ]
       ],
       "shape": {
        "columns": 1,
        "rows": 3
       }
      },
      "text/plain": [
       "Parag Parikh Flexi Cap Fund - Regular Plan - Growth    2989\n",
       "$-Adjusted                                             2989\n",
       "NIFTY 500 - TRI                                        2989\n",
       "dtype: int64"
      ]
     },
     "execution_count": 98,
     "metadata": {},
     "output_type": "execute_result"
    }
   ],
   "source": [
    "df.isna().count()"
   ]
  },
  {
   "cell_type": "code",
   "execution_count": 99,
   "id": "618ef17b",
   "metadata": {},
   "outputs": [
    {
     "data": {
      "application/vnd.microsoft.datawrangler.viewer.v0+json": {
       "columns": [
        {
         "name": "DateTime",
         "rawType": "datetime64[ns]",
         "type": "datetime"
        },
        {
         "name": "Parag Parikh Flexi Cap Fund - Regular Plan - Growth",
         "rawType": "float64",
         "type": "float"
        },
        {
         "name": "NIFTY 500 - TRI ",
         "rawType": "float64",
         "type": "float"
        }
       ],
       "ref": "d750f78f-a046-406f-adc8-e514bee5a2f1",
       "rows": [
        [
         "2013-05-28 00:00:00",
         "10.0",
         "6623.8"
        ],
        [
         "2013-05-29 00:00:00",
         "10.01",
         "6609.41"
        ],
        [
         "2013-05-30 00:00:00",
         "10.03",
         "6625.94"
        ],
        [
         "2013-05-31 00:00:00",
         "10.01",
         "6502.47"
        ],
        [
         "2013-06-03 00:00:00",
         "10.06",
         "6471.69"
        ]
       ],
       "shape": {
        "columns": 2,
        "rows": 5
       }
      },
      "text/html": [
       "<div>\n",
       "<style scoped>\n",
       "    .dataframe tbody tr th:only-of-type {\n",
       "        vertical-align: middle;\n",
       "    }\n",
       "\n",
       "    .dataframe tbody tr th {\n",
       "        vertical-align: top;\n",
       "    }\n",
       "\n",
       "    .dataframe thead th {\n",
       "        text-align: right;\n",
       "    }\n",
       "</style>\n",
       "<table border=\"1\" class=\"dataframe\">\n",
       "  <thead>\n",
       "    <tr style=\"text-align: right;\">\n",
       "      <th></th>\n",
       "      <th>Parag Parikh Flexi Cap Fund - Regular Plan - Growth</th>\n",
       "      <th>NIFTY 500 - TRI</th>\n",
       "    </tr>\n",
       "    <tr>\n",
       "      <th>DateTime</th>\n",
       "      <th></th>\n",
       "      <th></th>\n",
       "    </tr>\n",
       "  </thead>\n",
       "  <tbody>\n",
       "    <tr>\n",
       "      <th>2013-05-28</th>\n",
       "      <td>10.00</td>\n",
       "      <td>6623.80</td>\n",
       "    </tr>\n",
       "    <tr>\n",
       "      <th>2013-05-29</th>\n",
       "      <td>10.01</td>\n",
       "      <td>6609.41</td>\n",
       "    </tr>\n",
       "    <tr>\n",
       "      <th>2013-05-30</th>\n",
       "      <td>10.03</td>\n",
       "      <td>6625.94</td>\n",
       "    </tr>\n",
       "    <tr>\n",
       "      <th>2013-05-31</th>\n",
       "      <td>10.01</td>\n",
       "      <td>6502.47</td>\n",
       "    </tr>\n",
       "    <tr>\n",
       "      <th>2013-06-03</th>\n",
       "      <td>10.06</td>\n",
       "      <td>6471.69</td>\n",
       "    </tr>\n",
       "  </tbody>\n",
       "</table>\n",
       "</div>"
      ],
      "text/plain": [
       "            Parag Parikh Flexi Cap Fund - Regular Plan - Growth  \\\n",
       "DateTime                                                          \n",
       "2013-05-28                                              10.00     \n",
       "2013-05-29                                              10.01     \n",
       "2013-05-30                                              10.03     \n",
       "2013-05-31                                              10.01     \n",
       "2013-06-03                                              10.06     \n",
       "\n",
       "            NIFTY 500 - TRI   \n",
       "DateTime                      \n",
       "2013-05-28           6623.80  \n",
       "2013-05-29           6609.41  \n",
       "2013-05-30           6625.94  \n",
       "2013-05-31           6502.47  \n",
       "2013-06-03           6471.69  "
      ]
     },
     "execution_count": 99,
     "metadata": {},
     "output_type": "execute_result"
    }
   ],
   "source": [
    "df.drop('$-Adjusted',axis=1,inplace=True)\n",
    "df.head()"
   ]
  },
  {
   "cell_type": "code",
   "execution_count": 105,
   "id": "45d9d93d",
   "metadata": {},
   "outputs": [
    {
     "data": {
      "application/vnd.microsoft.datawrangler.viewer.v0+json": {
       "columns": [
        {
         "name": "DateTime",
         "rawType": "datetime64[ns]",
         "type": "datetime"
        },
        {
         "name": "NAV",
         "rawType": "float64",
         "type": "float"
        },
        {
         "name": "Nifty500_TRI",
         "rawType": "float64",
         "type": "float"
        }
       ],
       "ref": "c6333952-11bd-4f15-b053-3b98945ad6a0",
       "rows": [
        [
         "2013-05-28 00:00:00",
         "10.0",
         "6623.8"
        ],
        [
         "2013-05-29 00:00:00",
         "10.01",
         "6609.41"
        ],
        [
         "2013-05-30 00:00:00",
         "10.03",
         "6625.94"
        ],
        [
         "2013-05-31 00:00:00",
         "10.01",
         "6502.47"
        ],
        [
         "2013-06-03 00:00:00",
         "10.06",
         "6471.69"
        ]
       ],
       "shape": {
        "columns": 2,
        "rows": 5
       }
      },
      "text/html": [
       "<div>\n",
       "<style scoped>\n",
       "    .dataframe tbody tr th:only-of-type {\n",
       "        vertical-align: middle;\n",
       "    }\n",
       "\n",
       "    .dataframe tbody tr th {\n",
       "        vertical-align: top;\n",
       "    }\n",
       "\n",
       "    .dataframe thead th {\n",
       "        text-align: right;\n",
       "    }\n",
       "</style>\n",
       "<table border=\"1\" class=\"dataframe\">\n",
       "  <thead>\n",
       "    <tr style=\"text-align: right;\">\n",
       "      <th></th>\n",
       "      <th>NAV</th>\n",
       "      <th>Nifty500_TRI</th>\n",
       "    </tr>\n",
       "    <tr>\n",
       "      <th>DateTime</th>\n",
       "      <th></th>\n",
       "      <th></th>\n",
       "    </tr>\n",
       "  </thead>\n",
       "  <tbody>\n",
       "    <tr>\n",
       "      <th>2013-05-28</th>\n",
       "      <td>10.00</td>\n",
       "      <td>6623.80</td>\n",
       "    </tr>\n",
       "    <tr>\n",
       "      <th>2013-05-29</th>\n",
       "      <td>10.01</td>\n",
       "      <td>6609.41</td>\n",
       "    </tr>\n",
       "    <tr>\n",
       "      <th>2013-05-30</th>\n",
       "      <td>10.03</td>\n",
       "      <td>6625.94</td>\n",
       "    </tr>\n",
       "    <tr>\n",
       "      <th>2013-05-31</th>\n",
       "      <td>10.01</td>\n",
       "      <td>6502.47</td>\n",
       "    </tr>\n",
       "    <tr>\n",
       "      <th>2013-06-03</th>\n",
       "      <td>10.06</td>\n",
       "      <td>6471.69</td>\n",
       "    </tr>\n",
       "  </tbody>\n",
       "</table>\n",
       "</div>"
      ],
      "text/plain": [
       "              NAV  Nifty500_TRI\n",
       "DateTime                       \n",
       "2013-05-28  10.00       6623.80\n",
       "2013-05-29  10.01       6609.41\n",
       "2013-05-30  10.03       6625.94\n",
       "2013-05-31  10.01       6502.47\n",
       "2013-06-03  10.06       6471.69"
      ]
     },
     "execution_count": 105,
     "metadata": {},
     "output_type": "execute_result"
    }
   ],
   "source": [
    "df.rename(columns={'Parag Parikh Flexi Cap Fund - Regular Plan - Growth':'NAV',\n",
    "'NIFTY 500 - TRI':'Nifty500_TRI'},inplace=True)\n",
    "df.head()"
   ]
  },
  {
   "cell_type": "code",
   "execution_count": 106,
   "id": "797ea7e9",
   "metadata": {},
   "outputs": [
    {
     "data": {
      "application/vnd.microsoft.datawrangler.viewer.v0+json": {
       "columns": [
        {
         "name": "DateTime",
         "rawType": "datetime64[ns]",
         "type": "datetime"
        },
        {
         "name": "NAV",
         "rawType": "float64",
         "type": "float"
        },
        {
         "name": "Nifty500_TRI",
         "rawType": "float64",
         "type": "float"
        }
       ],
       "ref": "1d73b3da-5737-4526-bcbc-ebdb5c769634",
       "rows": [
        [
         "2013-05-28 00:00:00",
         "10.0",
         "6623.8"
        ],
        [
         "2013-05-29 00:00:00",
         "10.01",
         "6609.41"
        ],
        [
         "2013-05-30 00:00:00",
         "10.03",
         "6625.94"
        ],
        [
         "2013-05-31 00:00:00",
         "10.01",
         "6502.47"
        ],
        [
         "2013-06-03 00:00:00",
         "10.06",
         "6471.69"
        ]
       ],
       "shape": {
        "columns": 2,
        "rows": 5
       }
      },
      "text/html": [
       "<div>\n",
       "<style scoped>\n",
       "    .dataframe tbody tr th:only-of-type {\n",
       "        vertical-align: middle;\n",
       "    }\n",
       "\n",
       "    .dataframe tbody tr th {\n",
       "        vertical-align: top;\n",
       "    }\n",
       "\n",
       "    .dataframe thead th {\n",
       "        text-align: right;\n",
       "    }\n",
       "</style>\n",
       "<table border=\"1\" class=\"dataframe\">\n",
       "  <thead>\n",
       "    <tr style=\"text-align: right;\">\n",
       "      <th></th>\n",
       "      <th>NAV</th>\n",
       "      <th>Nifty500_TRI</th>\n",
       "    </tr>\n",
       "    <tr>\n",
       "      <th>DateTime</th>\n",
       "      <th></th>\n",
       "      <th></th>\n",
       "    </tr>\n",
       "  </thead>\n",
       "  <tbody>\n",
       "    <tr>\n",
       "      <th>2013-05-28</th>\n",
       "      <td>10.00</td>\n",
       "      <td>6623.80</td>\n",
       "    </tr>\n",
       "    <tr>\n",
       "      <th>2013-05-29</th>\n",
       "      <td>10.01</td>\n",
       "      <td>6609.41</td>\n",
       "    </tr>\n",
       "    <tr>\n",
       "      <th>2013-05-30</th>\n",
       "      <td>10.03</td>\n",
       "      <td>6625.94</td>\n",
       "    </tr>\n",
       "    <tr>\n",
       "      <th>2013-05-31</th>\n",
       "      <td>10.01</td>\n",
       "      <td>6502.47</td>\n",
       "    </tr>\n",
       "    <tr>\n",
       "      <th>2013-06-03</th>\n",
       "      <td>10.06</td>\n",
       "      <td>6471.69</td>\n",
       "    </tr>\n",
       "  </tbody>\n",
       "</table>\n",
       "</div>"
      ],
      "text/plain": [
       "              NAV  Nifty500_TRI\n",
       "DateTime                       \n",
       "2013-05-28  10.00       6623.80\n",
       "2013-05-29  10.01       6609.41\n",
       "2013-05-30  10.03       6625.94\n",
       "2013-05-31  10.01       6502.47\n",
       "2013-06-03  10.06       6471.69"
      ]
     },
     "execution_count": 106,
     "metadata": {},
     "output_type": "execute_result"
    }
   ],
   "source": [
    "df.columns = df.columns.str.strip()\n",
    "df.head()"
   ]
  },
  {
   "cell_type": "code",
   "execution_count": 108,
   "id": "b0c76c97",
   "metadata": {},
   "outputs": [
    {
     "data": {
      "application/vnd.microsoft.datawrangler.viewer.v0+json": {
       "columns": [
        {
         "name": "DateTime",
         "rawType": "datetime64[ns]",
         "type": "datetime"
        },
        {
         "name": "NAV",
         "rawType": "float64",
         "type": "float"
        },
        {
         "name": "Nifty500_TRI",
         "rawType": "float64",
         "type": "float"
        },
        {
         "name": "NAV_normalized",
         "rawType": "float64",
         "type": "float"
        },
        {
         "name": "Nft500_TRI_normalized",
         "rawType": "float64",
         "type": "float"
        }
       ],
       "ref": "74117e3a-a823-4cb5-88b8-b253721ff040",
       "rows": [
        [
         "2013-05-28 00:00:00",
         "10.0",
         "6623.8",
         "10.0",
         "10.0"
        ],
        [
         "2013-05-29 00:00:00",
         "10.01",
         "6609.41",
         "10.009999999999998",
         "9.978275310244873"
        ],
        [
         "2013-05-30 00:00:00",
         "10.03",
         "6625.94",
         "10.03",
         "10.003230773876021"
        ],
        [
         "2013-05-31 00:00:00",
         "10.01",
         "6502.47",
         "10.009999999999998",
         "9.816827198888856"
        ],
        [
         "2013-06-03 00:00:00",
         "10.06",
         "6471.69",
         "10.06",
         "9.770358404541199"
        ]
       ],
       "shape": {
        "columns": 4,
        "rows": 5
       }
      },
      "text/html": [
       "<div>\n",
       "<style scoped>\n",
       "    .dataframe tbody tr th:only-of-type {\n",
       "        vertical-align: middle;\n",
       "    }\n",
       "\n",
       "    .dataframe tbody tr th {\n",
       "        vertical-align: top;\n",
       "    }\n",
       "\n",
       "    .dataframe thead th {\n",
       "        text-align: right;\n",
       "    }\n",
       "</style>\n",
       "<table border=\"1\" class=\"dataframe\">\n",
       "  <thead>\n",
       "    <tr style=\"text-align: right;\">\n",
       "      <th></th>\n",
       "      <th>NAV</th>\n",
       "      <th>Nifty500_TRI</th>\n",
       "      <th>NAV_normalized</th>\n",
       "      <th>Nft500_TRI_normalized</th>\n",
       "    </tr>\n",
       "    <tr>\n",
       "      <th>DateTime</th>\n",
       "      <th></th>\n",
       "      <th></th>\n",
       "      <th></th>\n",
       "      <th></th>\n",
       "    </tr>\n",
       "  </thead>\n",
       "  <tbody>\n",
       "    <tr>\n",
       "      <th>2013-05-28</th>\n",
       "      <td>10.00</td>\n",
       "      <td>6623.80</td>\n",
       "      <td>10.00</td>\n",
       "      <td>10.000000</td>\n",
       "    </tr>\n",
       "    <tr>\n",
       "      <th>2013-05-29</th>\n",
       "      <td>10.01</td>\n",
       "      <td>6609.41</td>\n",
       "      <td>10.01</td>\n",
       "      <td>9.978275</td>\n",
       "    </tr>\n",
       "    <tr>\n",
       "      <th>2013-05-30</th>\n",
       "      <td>10.03</td>\n",
       "      <td>6625.94</td>\n",
       "      <td>10.03</td>\n",
       "      <td>10.003231</td>\n",
       "    </tr>\n",
       "    <tr>\n",
       "      <th>2013-05-31</th>\n",
       "      <td>10.01</td>\n",
       "      <td>6502.47</td>\n",
       "      <td>10.01</td>\n",
       "      <td>9.816827</td>\n",
       "    </tr>\n",
       "    <tr>\n",
       "      <th>2013-06-03</th>\n",
       "      <td>10.06</td>\n",
       "      <td>6471.69</td>\n",
       "      <td>10.06</td>\n",
       "      <td>9.770358</td>\n",
       "    </tr>\n",
       "  </tbody>\n",
       "</table>\n",
       "</div>"
      ],
      "text/plain": [
       "              NAV  Nifty500_TRI  NAV_normalized  Nft500_TRI_normalized\n",
       "DateTime                                                              \n",
       "2013-05-28  10.00       6623.80           10.00              10.000000\n",
       "2013-05-29  10.01       6609.41           10.01               9.978275\n",
       "2013-05-30  10.03       6625.94           10.03              10.003231\n",
       "2013-05-31  10.01       6502.47           10.01               9.816827\n",
       "2013-06-03  10.06       6471.69           10.06               9.770358"
      ]
     },
     "execution_count": 108,
     "metadata": {},
     "output_type": "execute_result"
    }
   ],
   "source": [
    "df['NAV_normalized']=df['NAV'] / df['NAV'].iloc[0]*10\n",
    "df['Nft500_TRI_normalized']=df['Nifty500_TRI']/df['Nifty500_TRI'].iloc[0]*10\n",
    "df.head()"
   ]
  },
  {
   "cell_type": "code",
   "execution_count": 109,
   "id": "d5c47c94",
   "metadata": {},
   "outputs": [
    {
     "name": "stderr",
     "output_type": "stream",
     "text": [
      "C:\\Users\\vaish\\AppData\\Local\\Temp\\ipykernel_996\\3194780914.py:2: FutureWarning: The default fill_method='pad' in Series.pct_change is deprecated and will be removed in a future version. Either fill in any non-leading NA values prior to calling pct_change or specify 'fill_method=None' to not fill NA values.\n",
      "  df['Index Returns']=df['Nifty500_TRI'].pct_change()\n"
     ]
    },
    {
     "data": {
      "application/vnd.microsoft.datawrangler.viewer.v0+json": {
       "columns": [
        {
         "name": "DateTime",
         "rawType": "datetime64[ns]",
         "type": "datetime"
        },
        {
         "name": "NAV",
         "rawType": "float64",
         "type": "float"
        },
        {
         "name": "Nifty500_TRI",
         "rawType": "float64",
         "type": "float"
        },
        {
         "name": "NAV_normalized",
         "rawType": "float64",
         "type": "float"
        },
        {
         "name": "Nft500_TRI_normalized",
         "rawType": "float64",
         "type": "float"
        },
        {
         "name": "Fund Returns",
         "rawType": "float64",
         "type": "float"
        },
        {
         "name": "Index Returns",
         "rawType": "float64",
         "type": "float"
        }
       ],
       "ref": "e06660bc-805a-49ee-a0f9-6f97ff844110",
       "rows": [
        [
         "2013-05-28 00:00:00",
         "10.0",
         "6623.8",
         "10.0",
         "10.0",
         null,
         null
        ],
        [
         "2013-05-29 00:00:00",
         "10.01",
         "6609.41",
         "10.009999999999998",
         "9.978275310244873",
         "0.0009999999999998899",
         "-0.002172468975512598"
        ],
        [
         "2013-05-30 00:00:00",
         "10.03",
         "6625.94",
         "10.03",
         "10.003230773876021",
         "0.0019980019980019303",
         "0.002500979663842884"
        ],
        [
         "2013-05-31 00:00:00",
         "10.01",
         "6502.47",
         "10.009999999999998",
         "9.816827198888856",
         "-0.001994017946161497",
         "-0.018634337165745474"
        ],
        [
         "2013-06-03 00:00:00",
         "10.06",
         "6471.69",
         "10.06",
         "9.770358404541199",
         "0.004995004995005159",
         "-0.0047335858527606245"
        ]
       ],
       "shape": {
        "columns": 6,
        "rows": 5
       }
      },
      "text/html": [
       "<div>\n",
       "<style scoped>\n",
       "    .dataframe tbody tr th:only-of-type {\n",
       "        vertical-align: middle;\n",
       "    }\n",
       "\n",
       "    .dataframe tbody tr th {\n",
       "        vertical-align: top;\n",
       "    }\n",
       "\n",
       "    .dataframe thead th {\n",
       "        text-align: right;\n",
       "    }\n",
       "</style>\n",
       "<table border=\"1\" class=\"dataframe\">\n",
       "  <thead>\n",
       "    <tr style=\"text-align: right;\">\n",
       "      <th></th>\n",
       "      <th>NAV</th>\n",
       "      <th>Nifty500_TRI</th>\n",
       "      <th>NAV_normalized</th>\n",
       "      <th>Nft500_TRI_normalized</th>\n",
       "      <th>Fund Returns</th>\n",
       "      <th>Index Returns</th>\n",
       "    </tr>\n",
       "    <tr>\n",
       "      <th>DateTime</th>\n",
       "      <th></th>\n",
       "      <th></th>\n",
       "      <th></th>\n",
       "      <th></th>\n",
       "      <th></th>\n",
       "      <th></th>\n",
       "    </tr>\n",
       "  </thead>\n",
       "  <tbody>\n",
       "    <tr>\n",
       "      <th>2013-05-28</th>\n",
       "      <td>10.00</td>\n",
       "      <td>6623.80</td>\n",
       "      <td>10.00</td>\n",
       "      <td>10.000000</td>\n",
       "      <td>NaN</td>\n",
       "      <td>NaN</td>\n",
       "    </tr>\n",
       "    <tr>\n",
       "      <th>2013-05-29</th>\n",
       "      <td>10.01</td>\n",
       "      <td>6609.41</td>\n",
       "      <td>10.01</td>\n",
       "      <td>9.978275</td>\n",
       "      <td>0.001000</td>\n",
       "      <td>-0.002172</td>\n",
       "    </tr>\n",
       "    <tr>\n",
       "      <th>2013-05-30</th>\n",
       "      <td>10.03</td>\n",
       "      <td>6625.94</td>\n",
       "      <td>10.03</td>\n",
       "      <td>10.003231</td>\n",
       "      <td>0.001998</td>\n",
       "      <td>0.002501</td>\n",
       "    </tr>\n",
       "    <tr>\n",
       "      <th>2013-05-31</th>\n",
       "      <td>10.01</td>\n",
       "      <td>6502.47</td>\n",
       "      <td>10.01</td>\n",
       "      <td>9.816827</td>\n",
       "      <td>-0.001994</td>\n",
       "      <td>-0.018634</td>\n",
       "    </tr>\n",
       "    <tr>\n",
       "      <th>2013-06-03</th>\n",
       "      <td>10.06</td>\n",
       "      <td>6471.69</td>\n",
       "      <td>10.06</td>\n",
       "      <td>9.770358</td>\n",
       "      <td>0.004995</td>\n",
       "      <td>-0.004734</td>\n",
       "    </tr>\n",
       "  </tbody>\n",
       "</table>\n",
       "</div>"
      ],
      "text/plain": [
       "              NAV  Nifty500_TRI  NAV_normalized  Nft500_TRI_normalized  \\\n",
       "DateTime                                                                 \n",
       "2013-05-28  10.00       6623.80           10.00              10.000000   \n",
       "2013-05-29  10.01       6609.41           10.01               9.978275   \n",
       "2013-05-30  10.03       6625.94           10.03              10.003231   \n",
       "2013-05-31  10.01       6502.47           10.01               9.816827   \n",
       "2013-06-03  10.06       6471.69           10.06               9.770358   \n",
       "\n",
       "            Fund Returns  Index Returns  \n",
       "DateTime                                 \n",
       "2013-05-28           NaN            NaN  \n",
       "2013-05-29      0.001000      -0.002172  \n",
       "2013-05-30      0.001998       0.002501  \n",
       "2013-05-31     -0.001994      -0.018634  \n",
       "2013-06-03      0.004995      -0.004734  "
      ]
     },
     "execution_count": 109,
     "metadata": {},
     "output_type": "execute_result"
    }
   ],
   "source": [
    "df['Fund Returns']=df['NAV'].pct_change()\n",
    "df['Index Returns']=df['Nifty500_TRI'].pct_change()\n",
    "df.head()"
   ]
  },
  {
   "cell_type": "code",
   "execution_count": 113,
   "id": "cc3fcae0",
   "metadata": {},
   "outputs": [
    {
     "name": "stdout",
     "output_type": "stream",
     "text": [
      "0.592270909168079\n"
     ]
    }
   ],
   "source": [
    "beta=df['Fund Returns'].cov(df['Index Returns'])/df['Index Returns'].var()\n",
    "print(beta)"
   ]
  },
  {
   "cell_type": "code",
   "execution_count": 114,
   "id": "184e77cb",
   "metadata": {},
   "outputs": [
    {
     "name": "stdout",
     "output_type": "stream",
     "text": [
      "DateTime\n",
      "2013-05-28         NaN\n",
      "2013-05-29    0.002287\n",
      "2013-05-30    0.000517\n",
      "2013-05-31    0.009043\n",
      "2013-06-03    0.007799\n",
      "                ...   \n",
      "2025-07-14    0.001573\n",
      "2025-07-15   -0.002501\n",
      "2025-07-16   -0.000743\n",
      "2025-07-17    0.000504\n",
      "2025-07-18   -0.000822\n",
      "Length: 2989, dtype: float64\n"
     ]
    }
   ],
   "source": [
    "alpha=df['Fund Returns']-beta*df['Index Returns']\n",
    "print(alpha)"
   ]
  },
  {
   "cell_type": "code",
   "execution_count": null,
   "id": "22da72e2",
   "metadata": {},
   "outputs": [],
   "source": []
  }
 ],
 "metadata": {
  "kernelspec": {
   "display_name": ".venv",
   "language": "python",
   "name": "python3"
  },
  "language_info": {
   "codemirror_mode": {
    "name": "ipython",
    "version": 3
   },
   "file_extension": ".py",
   "mimetype": "text/x-python",
   "name": "python",
   "nbconvert_exporter": "python",
   "pygments_lexer": "ipython3",
   "version": "3.13.5"
  }
 },
 "nbformat": 4,
 "nbformat_minor": 5
}
